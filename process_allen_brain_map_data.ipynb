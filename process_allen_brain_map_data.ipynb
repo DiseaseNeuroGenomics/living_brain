{
 "cells": [
  {
   "cell_type": "code",
   "execution_count": 4,
   "id": "86b3d597-697d-4483-bae5-2080c1e2cf8b",
   "metadata": {},
   "outputs": [
    {
     "name": "stdout",
     "output_type": "stream",
     "text": [
      "/sc/arion/work/massen06/.conda/envs/scvi/bin/python\n",
      "     active environment : scvi\n",
      "    active env location : /sc/arion/work/massen06/.conda/envs/scvi\n"
     ]
    }
   ],
   "source": [
    "import sys\n",
    "print(sys.executable)\n",
    "!conda info | grep 'active env'"
   ]
  },
  {
   "cell_type": "code",
   "execution_count": 5,
   "id": "dfe7be5e-e3d5-402d-8a59-233f9fd48a87",
   "metadata": {},
   "outputs": [],
   "source": [
    "import os\n",
    "import copy\n",
    "import scvi\n",
    "import anndata as ad\n",
    "import scanpy as sc\n",
    "import pandas as pd\n",
    "import numpy as np\n",
    "import seaborn as sns\n",
    "import matplotlib.pyplot as plt\n",
    "import scipy.sparse as sparse\n",
    "import h5py"
   ]
  },
  {
   "cell_type": "markdown",
   "id": "cd9753c4-2de5-4d28-8761-afd768189bfb",
   "metadata": {},
   "source": [
    "# Mouse Living Brain - Process Allen Brain Map Data\n",
    "Nicolas Masse, Donghoon Lee  \n",
    "August 2023\n",
    "\n",
    "Allen Brain Map data was downloaded from http://portal.brain-map.org/atlases-and-data/rnaseq/mouse-whole-cortex-and-hippocampus-10x."
   ]
  },
  {
   "cell_type": "markdown",
   "id": "6d74be32-c850-4eb5-9ebf-c5321f223ab9",
   "metadata": {},
   "source": [
    "### Get highly variable genes from processed living brain data"
   ]
  },
  {
   "cell_type": "code",
   "execution_count": 46,
   "id": "a1fc5a4e-44d6-4712-8538-865f252fac48",
   "metadata": {},
   "outputs": [],
   "source": [
    "living_brain_path = \"/sc/arion/work/massen06/living_brain1/anndata/mouse_living_brain_pre_final_clean.h5ad\"\n",
    "adata_lb = sc.read_h5ad(living_brain_path)\n",
    "var_genes_lb = [k for k, v in adata_lb.var.highly_variable_features.items() if v]"
   ]
  },
  {
   "cell_type": "markdown",
   "id": "feb29085-58e3-488d-947c-77cdd8bce4f9",
   "metadata": {},
   "source": [
    "### Allen data file path names"
   ]
  },
  {
   "cell_type": "code",
   "execution_count": 24,
   "id": "1bcd1713-fcf6-43b1-b7fd-df6d75f26c43",
   "metadata": {},
   "outputs": [],
   "source": [
    "allen_meta_path = \"/sc/arion/projects/psychAD/massen06/allen_brain_map/metadata.csv\"\n",
    "allen_data_path = \"/sc/arion/projects/psychAD/massen06/allen_brain_map/expression_matrix.hdf5\""
   ]
  },
  {
   "cell_type": "markdown",
   "id": "49065a2f-23cb-42af-8da8-fb42c794f6ad",
   "metadata": {},
   "source": [
    "### Load metadata and filter by region label\n",
    "We only include cells from visual cortex, retrosplenial cortex"
   ]
  },
  {
   "cell_type": "code",
   "execution_count": 25,
   "id": "ef5835a8-4fde-4de1-a24b-39a1de258d6b",
   "metadata": {},
   "outputs": [],
   "source": [
    "allen_meta = pd.read_csv(allen_meta_path)"
   ]
  },
  {
   "cell_type": "code",
   "execution_count": 26,
   "id": "da8e3b01-5ad7-44d7-95a8-534c16043ffb",
   "metadata": {},
   "outputs": [
    {
     "data": {
      "text/plain": [
       "array(['RSP', 'TEa-PERI-ECT', 'ACA', 'AI', 'SSs-GU-VISC-AIp', 'AUD',\n",
       "       'ENT', 'MOp', 'MOs_FRP', 'PAR-POST-PRE-SUB-ProS', 'PL-ILA-ORB',\n",
       "       'PTLp', 'SSp', 'VIS', 'VISl', 'VISm', 'VISp', 'HIP'], dtype=object)"
      ]
     },
     "execution_count": 26,
     "metadata": {},
     "output_type": "execute_result"
    }
   ],
   "source": [
    "allen_meta.region_label.unique()"
   ]
  },
  {
   "cell_type": "code",
   "execution_count": 27,
   "id": "23f20c02-bd91-4a0f-a4a1-de8f642c36df",
   "metadata": {},
   "outputs": [],
   "source": [
    "idx = [n.startswith(\"VIS\") or n.startswith(\"RSP\") for n in allen_meta.region_label]\n",
    "allen_meta = allen_meta[idx]"
   ]
  },
  {
   "cell_type": "markdown",
   "id": "872900ad-5c40-4076-b45c-e73ffb391ce0",
   "metadata": {},
   "source": [
    "### Find Allen Brain genes that match var_genes_lb"
   ]
  },
  {
   "cell_type": "code",
   "execution_count": 51,
   "id": "3eddec02-578c-44f8-b775-0629c22f0d96",
   "metadata": {},
   "outputs": [],
   "source": [
    "with h5py.File(allen_data_path, \"r\") as f:\n",
    "    genes_allen = f[\"data\"][\"gene\"][:]"
   ]
  },
  {
   "cell_type": "code",
   "execution_count": 53,
   "id": "8e228aff-704a-422d-a74a-5da3fe73df2a",
   "metadata": {},
   "outputs": [],
   "source": [
    "var_genes_lb = [v.lower() for v in var_genes_lb]\n",
    "\n",
    "idx_allen = []\n",
    "genes_allen = [g.decode('ascii').lower() for g in genes_allen]\n",
    "idx_allen = [n for n, g in enumerate(genes_allen) if g in var_genes_lb]         "
   ]
  },
  {
   "cell_type": "code",
   "execution_count": 56,
   "id": "f1461929-cd92-44ba-8cf6-854dcb27f527",
   "metadata": {},
   "outputs": [
    {
     "name": "stdout",
     "output_type": "stream",
     "text": [
      "Number of Allen genes: 1707 and number of living brain genes: 1744\n"
     ]
    }
   ],
   "source": [
    "print(f\"Number of Allen genes: {len(idx_allen)} and number of living brain genes: {len(var_genes_lb)}\")"
   ]
  },
  {
   "cell_type": "markdown",
   "id": "92f11c50-d88e-4463-aa7d-248a5ef6a33f",
   "metadata": {},
   "source": [
    "### Create the AnnData structures using only the highly variable genes"
   ]
  },
  {
   "cell_type": "code",
   "execution_count": 33,
   "id": "68e3d72f-2482-4502-86d0-c5577f5f74d5",
   "metadata": {},
   "outputs": [],
   "source": [
    "with h5py.File(allen_data_path, \"r\") as f:\n",
    "    x = f[\"data\"][\"counts\"][idx_allen, :]\n",
    "    genes = f[\"data\"][\"gene\"][idx_allen]"
   ]
  },
  {
   "cell_type": "code",
   "execution_count": 34,
   "id": "14c1b04c-2e5f-4c68-9315-8a8b41c526eb",
   "metadata": {},
   "outputs": [],
   "source": [
    "x = sparse.csr_matrix(x.T)"
   ]
  },
  {
   "cell_type": "code",
   "execution_count": 35,
   "id": "c7be79be-6b1d-4651-9452-b9654bb4b517",
   "metadata": {},
   "outputs": [],
   "source": [
    "adata = ad.AnnData(x)"
   ]
  },
  {
   "cell_type": "code",
   "execution_count": 36,
   "id": "a3bc326f-3788-4e12-b613-d36875157ac6",
   "metadata": {},
   "outputs": [],
   "source": [
    "adata.var[\"gene_name\"] = list(genes)"
   ]
  },
  {
   "cell_type": "code",
   "execution_count": 37,
   "id": "094feeba-35b9-4786-9d79-78f4a3b7fa1b",
   "metadata": {},
   "outputs": [],
   "source": [
    "with h5py.File(allen_data_path, \"r\") as f:\n",
    "    samples = f[\"data\"][\"samples\"][:]"
   ]
  },
  {
   "cell_type": "code",
   "execution_count": 19,
   "id": "2a02af9c-9481-487c-bce8-cfb17674e747",
   "metadata": {},
   "outputs": [
    {
     "name": "stdout",
     "output_type": "stream",
     "text": [
      "675000 1169320 0 0\n",
      "680000 1169320 0 0\n",
      "685000 1169320 3460 3460\n",
      "690000 1169320 8460 8460\n",
      "695000 1169320 13460 13460\n",
      "700000 1169320 18460 18460\n",
      "705000 1169320 23460 23460\n",
      "710000 1169320 28460 28460\n",
      "715000 1169320 33460 33460\n",
      "720000 1169320 38460 38460\n",
      "725000 1169320 43460 43460\n",
      "730000 1169320 48460 48460\n",
      "735000 1169320 53460 53460\n",
      "740000 1169320 58460 58460\n",
      "745000 1169320 63460 63460\n",
      "750000 1169320 65710 65710\n",
      "755000 1169320 65710 65710\n",
      "760000 1169320 65710 65710\n",
      "765000 1169320 65710 65710\n",
      "770000 1169320 65710 65710\n",
      "775000 1169320 65710 65710\n",
      "780000 1169320 65710 65710\n",
      "785000 1169320 65710 65710\n",
      "790000 1169320 65710 65710\n",
      "795000 1169320 65710 65710\n",
      "800000 1169320 65710 65710\n",
      "805000 1169320 65710 65710\n",
      "810000 1169320 65710 65710\n",
      "815000 1169320 65710 65710\n",
      "820000 1169320 65710 65710\n",
      "825000 1169320 65710 65710\n",
      "830000 1169320 67410 67410\n",
      "835000 1169320 72410 72410\n",
      "840000 1169320 77410 77410\n",
      "845000 1169320 82410 82410\n",
      "850000 1169320 87410 87410\n",
      "855000 1169320 92410 92410\n",
      "860000 1169320 97410 97410\n",
      "865000 1169320 102410 102410\n",
      "870000 1169320 107410 107410\n",
      "875000 1169320 112410 112410\n",
      "880000 1169320 117410 117410\n",
      "885000 1169320 122410 122410\n",
      "890000 1169320 127410 127410\n",
      "895000 1169320 132410 132410\n",
      "900000 1169320 137410 137410\n",
      "905000 1169320 142410 142410\n",
      "910000 1169320 147410 147410\n",
      "915000 1169320 152410 152410\n",
      "920000 1169320 157410 157410\n",
      "925000 1169320 162410 162410\n",
      "930000 1169320 167410 167410\n",
      "935000 1169320 172410 172410\n",
      "940000 1169320 177410 177410\n",
      "945000 1169320 182410 182410\n",
      "950000 1169320 187410 187410\n",
      "955000 1169320 192410 192410\n",
      "960000 1169320 197410 197410\n",
      "965000 1169320 202410 202410\n",
      "970000 1169320 207410 207410\n",
      "975000 1169320 212410 212410\n",
      "980000 1169320 217410 217410\n",
      "985000 1169320 222410 222410\n",
      "990000 1169320 227410 227410\n",
      "995000 1169320 232410 232410\n",
      "1000000 1169320 237410 237410\n",
      "1005000 1169320 242410 242410\n",
      "1010000 1169320 247410 247410\n",
      "1015000 1169320 252410 252410\n",
      "1020000 1169320 257410 257410\n",
      "1025000 1169320 262410 262410\n",
      "1030000 1169320 267410 267410\n",
      "1035000 1169320 272410 272410\n",
      "1040000 1169320 277410 277410\n",
      "1045000 1169320 282410 282410\n",
      "1050000 1169320 287410 287410\n",
      "1055000 1169320 292410 292410\n",
      "1060000 1169320 297410 297410\n",
      "1065000 1169320 302410 302410\n",
      "1070000 1169320 307410 307410\n",
      "1075000 1169320 312410 312410\n",
      "1080000 1169320 317410 317410\n",
      "1085000 1169320 322410 322410\n",
      "1090000 1169320 327410 327410\n",
      "1095000 1169320 332410 332410\n",
      "1100000 1169320 337410 337410\n",
      "1105000 1169320 342410 342410\n",
      "1110000 1169320 346983 346983\n",
      "1115000 1169320 346983 346983\n",
      "1120000 1169320 346983 346983\n",
      "1125000 1169320 346983 346983\n",
      "1130000 1169320 346983 346983\n",
      "1135000 1169320 346983 346983\n",
      "1140000 1169320 346983 346983\n",
      "1145000 1169320 346983 346983\n",
      "1150000 1169320 346983 346983\n",
      "1155000 1169320 346983 346983\n",
      "1160000 1169320 346983 346983\n",
      "1165000 1169320 346983 346983\n"
     ]
    }
   ],
   "source": [
    "region_id = []\n",
    "region_label = []\n",
    "class_label = []\n",
    "subclass_label = []\n",
    "index = []\n",
    "sample_name = np.array(allen_meta[\"sample_name\"])\n",
    "for n, s in enumerate(samples):\n",
    "    s = s.decode(\"ascii\")\n",
    "    \n",
    "    # no visual or RSP cells occur before index 675_000\n",
    "    if n < 675_000:\n",
    "        continue\n",
    "    if n % 5000 == 0:\n",
    "        print(n, len(samples), len(subclass_label), len(index))\n",
    "\n",
    "    if s in sample_name:\n",
    "        idx = np.where(s == sample_name)[0][0]\n",
    "        region_id.append(allen_meta[\"region_id\"].values[idx])\n",
    "        class_label.append(allen_meta[\"class_label\"].values[idx])\n",
    "        subclass_label.append(allen_meta[\"subclass_label\"].values[idx])\n",
    "        region_label.append(allen_meta[\"region_label\"].values[idx])\n",
    "        index.append(n)\n",
    "\n"
   ]
  },
  {
   "cell_type": "code",
   "execution_count": 20,
   "id": "5fff564a-df3f-4099-811c-e5492bac5f84",
   "metadata": {},
   "outputs": [],
   "source": [
    "adata_sample = adata[index]"
   ]
  },
  {
   "cell_type": "code",
   "execution_count": 21,
   "id": "b41dcb3d-71e3-4674-8ba8-11290c1afc12",
   "metadata": {},
   "outputs": [
    {
     "name": "stderr",
     "output_type": "stream",
     "text": [
      "/tmp/ipykernel_785/2733976181.py:1: ImplicitModificationWarning: Trying to modify attribute `.obs` of view, initializing view as actual.\n",
      "  adata_sample.obs[\"region_id\"] = region_id\n"
     ]
    }
   ],
   "source": [
    "adata_sample.obs[\"region_id\"] = region_id\n",
    "adata_sample.obs[\"region_label\"] = region_label\n",
    "adata_sample.obs[\"class_label\"] = class_label\n",
    "adata_sample.obs[\"subclass_label\"] = subclass_label\n"
   ]
  },
  {
   "cell_type": "code",
   "execution_count": 23,
   "id": "6f677d5c-350d-4b0a-897b-1fdddc105956",
   "metadata": {},
   "outputs": [],
   "source": [
    "adata_sample.write(\"allen_brain_map_vis_rsp_v2.h5ad\")"
   ]
  }
 ],
 "metadata": {
  "kernelspec": {
   "display_name": "scvi",
   "language": "python",
   "name": "scvi"
  },
  "language_info": {
   "codemirror_mode": {
    "name": "ipython",
    "version": 3
   },
   "file_extension": ".py",
   "mimetype": "text/x-python",
   "name": "python",
   "nbconvert_exporter": "python",
   "pygments_lexer": "ipython3",
   "version": "3.9.17"
  }
 },
 "nbformat": 4,
 "nbformat_minor": 5
}
